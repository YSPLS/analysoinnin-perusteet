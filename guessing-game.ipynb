{
 "cells": [
  {
   "cell_type": "code",
   "execution_count": 1,
   "metadata": {},
   "outputs": [
    {
     "name": "stdout",
     "output_type": "stream",
     "text": [
      "Try again!\n",
      "Hint:  M\n",
      "Try again!\n",
      "Hint:  a\n",
      "Try again!\n",
      "Hint:  r\n",
      "Try again!\n",
      "Hint:  k\n",
      "Try again!\n",
      "Hint:  o\n",
      "You are right!\n",
      "Tries: 6\n"
     ]
    }
   ],
   "source": [
    "count = 0\n",
    "guide = -1\n",
    "String = \"Marko\"\n",
    "while True:\n",
    "    game = str(input(\"Guess my name: \"))\n",
    "    count += 1\n",
    "    if game == \"Marko\":\n",
    "        print(\"You are right!\")\n",
    "        print(\"Tries:\", count)\n",
    "        break\n",
    "    else:\n",
    "        print(\"Try again!\")\n",
    "        guide = (guide + 1) % len(String)\n",
    "        print(\"Hint: \", String[guide])\n",
    "        \n",
    "\n",
    "        \n",
    "\n",
    "    "
   ]
  }
 ],
 "metadata": {
  "kernelspec": {
   "display_name": "Python 3",
   "language": "python",
   "name": "python3"
  },
  "language_info": {
   "codemirror_mode": {
    "name": "ipython",
    "version": 3
   },
   "file_extension": ".py",
   "mimetype": "text/x-python",
   "name": "python",
   "nbconvert_exporter": "python",
   "pygments_lexer": "ipython3",
   "version": "3.12.0"
  }
 },
 "nbformat": 4,
 "nbformat_minor": 2
}
