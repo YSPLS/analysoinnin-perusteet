{
 "cells": [
  {
   "cell_type": "code",
   "execution_count": 13,
   "metadata": {},
   "outputs": [
    {
     "name": "stdout",
     "output_type": "stream",
     "text": [
      "['table', 'chair']\n",
      "Sofa found.\n"
     ]
    }
   ],
   "source": [
    "i= \"Sofa\"\n",
    "furniture = [\"table\", \"chair\", \"shelf\", \"Sofa\"]\n",
    "print(furniture[0:2])\n",
    "if i in furniture:\n",
    "    print(\"Sofa found.\" )"
   ]
  },
  {
   "cell_type": "code",
   "execution_count": 6,
   "metadata": {},
   "outputs": [
    {
     "name": "stdout",
     "output_type": "stream",
     "text": [
      "[1, 4, 2, 2, 5]\n",
      "14\n",
      "5\n"
     ]
    }
   ],
   "source": [
    "import random \n",
    "thrownDiceNumbers = []\n",
    "for i in range(0,5):\n",
    "    n = random.randint(1,5)\n",
    "    thrownDiceNumbers.append(n)\n",
    "print(thrownDiceNumbers)\n",
    "Sum = sum(thrownDiceNumbers)\n",
    "Max = max(thrownDiceNumbers)\n",
    "print(Sum)\n",
    "print(Max)"
   ]
  },
  {
   "cell_type": "code",
   "execution_count": 40,
   "metadata": {},
   "outputs": [
    {
     "name": "stdout",
     "output_type": "stream",
     "text": [
      "[[19], [9], [10], [4], [1]]\n"
     ]
    }
   ],
   "source": [
    "import random \n",
    "thrownDiceNumbers = []\n",
    "for i in range(0,5):\n",
    "    n = random.sample(range(1, 20), 1)\n",
    "    thrownDiceNumbers.append(n)\n",
    "print(thrownDiceNumbers)"
   ]
  }
 ],
 "metadata": {
  "kernelspec": {
   "display_name": "Python 3",
   "language": "python",
   "name": "python3"
  },
  "language_info": {
   "codemirror_mode": {
    "name": "ipython",
    "version": 3
   },
   "file_extension": ".py",
   "mimetype": "text/x-python",
   "name": "python",
   "nbconvert_exporter": "python",
   "pygments_lexer": "ipython3",
   "version": "3.12.0"
  }
 },
 "nbformat": 4,
 "nbformat_minor": 2
}
