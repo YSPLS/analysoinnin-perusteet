{
 "cells": [
  {
   "cell_type": "code",
   "execution_count": 5,
   "metadata": {},
   "outputs": [
    {
     "name": "stdout",
     "output_type": "stream",
     "text": [
      "numbers are NOT equal.\n",
      "number1 is greater\n",
      "number1 is greater\n"
     ]
    }
   ],
   "source": [
    "number1 = 50\n",
    "number2 = 29\n",
    "\n",
    "if number1 == number2:\n",
    "    print(\"equal\")\n",
    "else:\n",
    "   print(\"numbers are NOT equal.\")\n",
    "if number1 > number2:\n",
    "    print(\"number1 is greater\")\n",
    "if number1 >= number2:\n",
    "    print(\"number1 is greater\") "
   ]
  },
  {
   "cell_type": "code",
   "execution_count": 28,
   "metadata": {},
   "outputs": [
    {
     "name": "stdout",
     "output_type": "stream",
     "text": [
      "number1 is bigger than number2 \n",
      "number1 and number 3 are equal\n"
     ]
    }
   ],
   "source": [
    "number1 = 300\n",
    "number2 = 30\n",
    "number3 = 300\n",
    "\n",
    "if number1 == number2 & number3:\n",
    "    print(\"all are equal\")\n",
    "if number1 == number2 or number2 == number3:\n",
    "    print(\"number1 and number2 are equal or number2 and number3 are equal\")\n",
    "if number1 > number2 & number1 > number3:\n",
    "    print(\"number1 is the largest variable\")\n",
    "if number1 > number2:\n",
    "    print(\"number1 is bigger than number2 \")\n",
    "elif number2 > number3:\n",
    "    print(\"number2 is bigger than number3\")\n",
    "if number1 == number2:\n",
    "    print(\"number1 and number 2 are equal\")\n",
    "elif number1 == number3:\n",
    "    print(\"number1 and number 3 are equal\")"
   ]
  },
  {
   "cell_type": "code",
   "execution_count": 32,
   "metadata": {},
   "outputs": [
    {
     "name": "stdout",
     "output_type": "stream",
     "text": [
      "name1 and name2 are NOT the same\n",
      "name1 and name3 are the same\n"
     ]
    }
   ],
   "source": [
    "name1 = \"Kaski\"\n",
    "name2 = \"Mark\"\n",
    "name3 = \"Kaski\"\n",
    "\n",
    "if name1 == name2:\n",
    "    print(\"Same name\")\n",
    "else:\n",
    "    print(\"name1 and name2 are NOT the same\")\n",
    "if name1 == name2:\n",
    "    print(\"Same name\")\n",
    "elif name1 == name3:\n",
    "    print(\"name1 and name3 are the same\")"
   ]
  }
 ],
 "metadata": {
  "kernelspec": {
   "display_name": "Python 3",
   "language": "python",
   "name": "python3"
  },
  "language_info": {
   "codemirror_mode": {
    "name": "ipython",
    "version": 3
   },
   "file_extension": ".py",
   "mimetype": "text/x-python",
   "name": "python",
   "nbconvert_exporter": "python",
   "pygments_lexer": "ipython3",
   "version": "3.12.0"
  }
 },
 "nbformat": 4,
 "nbformat_minor": 2
}
