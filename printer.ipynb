{
 "cells": [
  {
   "cell_type": "code",
   "execution_count": 17,
   "metadata": {},
   "outputs": [
    {
     "name": "stdout",
     "output_type": "stream",
     "text": [
      "Printer app\n",
      "This app is made by: Lassi\n",
      "The value of number1 is 23\n",
      "The value of number2 is 5\n",
      "23 * 5 = 115\n",
      "23 + 5 = 28\n",
      "23 / 5 = 4.6\n",
      "23 - 5 = 18\n"
     ]
    }
   ],
   "source": [
    "#Variables that are not math\n",
    "creator = \"Lassi\"\n",
    "number1 = 23\n",
    "number2 = 5\n",
    "\n",
    "#Math stuff\n",
    "multiplication = number1 * number2\n",
    "addition = number1 + number2\n",
    "division = number1 / number2\n",
    "substraction = number1 - number2\n",
    "\n",
    "#The printing press\n",
    "print(\"Printer app\")\n",
    "print(\"This app is made by: \" + creator)\n",
    "#print(number1)\n",
    "print(\"The value of number1 is \" + str(number1))\n",
    "print(\"The value of number2 is \" + str(number2))\n",
    "print(str(number1), \"*\", str(number2), \"=\", str(multiplication))\n",
    "print(str(number1), \"+\", str(number2), \"=\", str(addition))\n",
    "print(str(number1), \"/\", str(number2), \"=\", str(division))\n",
    "print(str(number1), \"-\", str(number2), \"=\", str(substraction))\n",
    "\n",
    "\n",
    "\n",
    "\n",
    "\n",
    "\n"
   ]
  }
 ],
 "metadata": {
  "kernelspec": {
   "display_name": "Python 3",
   "language": "python",
   "name": "python3"
  },
  "language_info": {
   "codemirror_mode": {
    "name": "ipython",
    "version": 3
   },
   "file_extension": ".py",
   "mimetype": "text/x-python",
   "name": "python",
   "nbconvert_exporter": "python",
   "pygments_lexer": "ipython3",
   "version": "3.12.0"
  }
 },
 "nbformat": 4,
 "nbformat_minor": 2
}
